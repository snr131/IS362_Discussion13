{
  "nbformat": 4,
  "nbformat_minor": 0,
  "metadata": {
    "colab": {
      "name": "Discussion13.ipynb",
      "provenance": []
    },
    "kernelspec": {
      "name": "python3",
      "display_name": "Python 3"
    },
    "language_info": {
      "name": "python"
    }
  },
  "cells": [
    {
      "cell_type": "markdown",
      "metadata": {
        "id": "255JF18wUBBK"
      },
      "source": [
        "Week 13 Discussion: Recommender Systems\n",
        " \n",
        "**Prompt:**\n",
        "Your task is to analyze an existing recommender system that you find interesting.  You should:\n",
        "\n",
        "Perform a Scenario Design analysis as described below.  Consider whether it makes sense for your selected recommender system to perform scenario design twice, once for the organization (e.g. Amazon.com) and once for the organization's customers.\n",
        "\n",
        "Attempt to reverse engineer what you can about the site, from the site interface and any available information that you can find on the Internet or elsewhere.\n",
        "\n",
        "Include specific recommendations about how to improve the site's recommendation capabilities going forward. \n",
        "\n",
        "Create your report using a Jupyter notebook, and create a discussion thread with a link to the GitHub repo where your Jupyter Notebook resides.  You are not expected to need to write code for this discussion assignment.\n",
        "\n",
        "**Answers:**\n",
        "\n",
        "To perform this scenario design I am using Spotify as an example. I found articles about the Spotify recommender system, which I have cited below. According to Irvine (2019), Spotify has 200 million users worldwide. The users use the Spotify app to listen to and discover music. Spotify offers a free ad-supported option and paid version with more capabilities. \n",
        "\n",
        "Spotify benefits from more time spent by users, who they engage by continuously recommending music the user is likely to enjoy. Users who spend more time using the app are likely to become paying customers. \n",
        "\n",
        "Customers benefit from time spent because their recommendations improve over time.\n",
        "\n",
        "According to Spotify (2020), “personalized recommendations take into account thousands of types of signals: what you’re listening to and when, which songs you’re adding to your playlists, the listening habits of people who have similar tastes, and much more. In order to create algorithms that truly deliver the right song for the right time, we’re also taking into account less obvious factors: things like time of day, or the order in which you’re listening to songs or podcasts, or the release date of a song.” This aligns closely with Irvine’s (2019) explanation, quoted here, of the algorithms used by Spotify, “In terms of Spotify, Discover Weekly and other playlists are created using collaborative filtering, based on the user’s listening history, in tandem with songs enjoyed by users who seem to have a similar history. Additionally, Spotify uses “Taste Analysis Data'' to establish a Taste Profile. This technology, developed by Echo Nest (Titlow, 2016), groups the music users frequently listen to into clusters and not genres, as the human categorization of music is largely subjective. Examples of this are evident in Spotify’s Discover Weekly and Daily Mix playlists suggestions. Clustering algorithms like Spotify’s group data based on their similarities. Alpaydin describes clustering as an “exploratory data analysis technique where we identify groups naturally occurring in the data'' (Alpaydin, 2016 p. 115). Services like Spotify can cluster songs, genres and even playlist tones,  in order to train a machine learning algorithms to predict preferences and future listening patterns.” \n",
        "\n",
        "Unlike Amazon’s use of an item-to-item collaborative filtering, Spotify - according to Irvin - seems to focus more on recommending music to similar users. \n",
        "\n",
        "As a user of Spotify, I benefit from the use of clusters that do not focus on genre or artist. However this may result in poor recommendations for users that only use the app sporadically. Or, like my case, users who share their accounts with a toddler. \n",
        "\n",
        "Irvine, M. (2019). Music To My Ears: De-Blackboxing Spotify’s Recommendation Engine. Georgetown University. https://blogs.commons.georgetown.edu/cctp-607-spring2019/2019/05/06/music-to-my-ears-de-blackboxing-spotifys-recommendation-algorithm/\n",
        "Spotify. (2020, November 2). Amplifying Artist Input in Your Personalized Recommendations. newsroom.spotify.com. https://newsroom.spotify.com/2020-11-02/amplifying-artist-input-in-your-personalized-recommendations/\n"
      ]
    }
  ]
}